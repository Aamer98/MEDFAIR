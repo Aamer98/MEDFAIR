{
 "cells": [
  {
   "cell_type": "code",
   "execution_count": null,
   "id": "bbd4178f",
   "metadata": {},
   "outputs": [],
   "source": [
    "import h5py\n",
    "import pandas as pd\n",
    "import numpy as np\n",
    "import cv2\n",
    "import os\n",
    "import matplotlib.pyplot as plt\n",
    "from collections import Counter\n",
    "from sklearn.model_selection import train_test_split"
   ]
  },
  {
   "cell_type": "code",
   "execution_count": null,
   "id": "e1173431",
   "metadata": {},
   "outputs": [],
   "source": [
    "# read metadata\n",
    "path = 'your_path/data/PAPILA/'\n",
    "\n",
    "# OD for right, OS for left\n",
    "od_meta = pd.read_csv(path + 'ClinicalData/patient_data_od.csv')\n",
    "os_meta = pd.read_csv(path + 'ClinicalData/patient_data_os.csv')\n",
    "od_meta.head()"
   ]
  },
  {
   "cell_type": "code",
   "execution_count": null,
   "id": "75d82bf3",
   "metadata": {},
   "outputs": [],
   "source": [
    "os_meta.head()"
   ]
  },
  {
   "cell_type": "code",
   "execution_count": null,
   "id": "95739fb4",
   "metadata": {},
   "outputs": [],
   "source": [
    "ids = os_meta['ID'].values\n",
    "os_path = ['RET' + x[1:] + 'OS.jpg' for x in ids]\n",
    "os_meta['Path'] = os_path"
   ]
  },
  {
   "cell_type": "code",
   "execution_count": null,
   "id": "a376a0aa",
   "metadata": {},
   "outputs": [],
   "source": [
    "ids = od_meta['ID'].values\n",
    "od_path = ['RET' + x[1:] + 'OD.jpg' for x in ids]\n",
    "od_meta['Path'] = od_path"
   ]
  },
  {
   "cell_type": "code",
   "execution_count": null,
   "id": "a7847f09",
   "metadata": {},
   "outputs": [],
   "source": [
    "meta_all = pd.concat([od_meta, os_meta])\n",
    "subcolumns = ['ID', 'Age', 'Gender', 'Diagnosis', 'Path']\n",
    "meta_all = meta_all[subcolumns]\n",
    "meta_all"
   ]
  },
  {
   "cell_type": "code",
   "execution_count": null,
   "id": "0e7dff3c",
   "metadata": {},
   "outputs": [],
   "source": [
    "meta_all.to_csv(path + 'ClinicalData/patient_meta_concat.csv')"
   ]
  },
  {
   "cell_type": "code",
   "execution_count": null,
   "id": "7263de2a",
   "metadata": {},
   "outputs": [],
   "source": [
    "# the patient (0 for male and 1 for female), \n",
    "# the diagnosis (0 stands for healthy, 1 for glaucoma, and 2 for suspicious)\n",
    "\n",
    "sex = meta_all['Gender'].values.astype('str')\n",
    "sex[sex == '0.0'] = 'M'\n",
    "sex[sex == '1.0'] = 'F'\n",
    "meta_all['Sex'] = sex\n",
    "meta_all"
   ]
  },
  {
   "cell_type": "code",
   "execution_count": null,
   "id": "1908675b",
   "metadata": {},
   "outputs": [],
   "source": [
    "meta_all['Age_multi'] = meta_all['Age'].values.astype('int')\n",
    "meta_all['Age_multi'] = np.where(meta_all['Age_multi'].between(0,19), 0, meta_all['Age_multi'])\n",
    "meta_all['Age_multi'] = np.where(meta_all['Age_multi'].between(20,39), 1, meta_all['Age_multi'])\n",
    "meta_all['Age_multi'] = np.where(meta_all['Age_multi'].between(40,59), 2, meta_all['Age_multi'])\n",
    "meta_all['Age_multi'] = np.where(meta_all['Age_multi'].between(60,79), 3, meta_all['Age_multi'])\n",
    "meta_all['Age_multi'] = np.where(meta_all['Age_multi']>=80, 4, meta_all['Age_multi'])\n",
    "\n",
    "meta_all['Age_binary'] = meta_all['Age'].values.astype('int')\n",
    "meta_all['Age_binary'] = np.where(meta_all['Age_binary'].between(0, 60), 0, meta_all['Age_binary'])\n",
    "meta_all['Age_binary'] = np.where(meta_all['Age_binary']>= 60, 1, meta_all['Age_binary'])\n",
    "meta_all"
   ]
  },
  {
   "cell_type": "code",
   "execution_count": null,
   "id": "55550dfe",
   "metadata": {
    "scrolled": true
   },
   "outputs": [],
   "source": [
    "# binary , only use healthy and glaucoma, i.e. 0 and 1.\n",
    "\n",
    "meta_binary = meta_all[(meta_all['Diagnosis'].values == 1.0) | (meta_all['Diagnosis'].values == 0.0)]\n",
    "len(meta_binary)"
   ]
  },
  {
   "cell_type": "code",
   "execution_count": null,
   "id": "e4f757b9",
   "metadata": {},
   "outputs": [],
   "source": [
    "def split_712(all_meta, patient_ids):\n",
    "    sub_train, sub_val_test = train_test_split(patient_ids, test_size=0.3, random_state=5)\n",
    "    sub_val, sub_test = train_test_split(sub_val_test, test_size=0.66, random_state=15)\n",
    "    train_meta = all_meta[all_meta.ID.isin(sub_train)]\n",
    "    val_meta = all_meta[all_meta.ID.isin(sub_val)]\n",
    "    test_meta = all_meta[all_meta.ID.isin(sub_test)]\n",
    "    return train_meta, val_meta, test_meta\n",
    "\n",
    "sub_train, sub_val, sub_test = split_712(meta_binary, np.unique(meta_binary['ID']))"
   ]
  },
  {
   "cell_type": "code",
   "execution_count": null,
   "id": "b91657ee",
   "metadata": {},
   "outputs": [],
   "source": [
    "sub_train.to_csv('/yourpath/data/PAPILA/split/new_train.csv')\n",
    "sub_val.to_csv('/yourpath/data/PAPILA/split/new_val.csv')\n",
    "sub_test.to_csv('/yourpath/data/PAPILA/split/new_test.csv')"
   ]
  }
 ],
 "metadata": {
  "kernelspec": {
   "display_name": "torch11",
   "language": "python",
   "name": "torch11"
  },
  "language_info": {
   "codemirror_mode": {
    "name": "ipython",
    "version": 3
   },
   "file_extension": ".py",
   "mimetype": "text/x-python",
   "name": "python",
   "nbconvert_exporter": "python",
   "pygments_lexer": "ipython3",
   "version": "3.8.12"
  }
 },
 "nbformat": 4,
 "nbformat_minor": 5
}
