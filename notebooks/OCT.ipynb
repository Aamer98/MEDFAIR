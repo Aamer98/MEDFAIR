{
 "cells": [
  {
   "cell_type": "code",
   "execution_count": null,
   "id": "bbd4178f",
   "metadata": {},
   "outputs": [],
   "source": [
    "import h5py\n",
    "import pandas as pd\n",
    "import numpy as np\n",
    "import cv2\n",
    "import os\n",
    "import matplotlib.pyplot as plt\n",
    "from collections import Counter\n",
    "from sklearn.model_selection import train_test_split\n",
    "import scipy.io"
   ]
  },
  {
   "cell_type": "code",
   "execution_count": null,
   "id": "e1173431",
   "metadata": {
    "scrolled": true
   },
   "outputs": [],
   "source": [
    "# read metadata\n",
    "path = '/home/as26840@ens.ad.etsmtl.ca/data/medfair/OCT/'\n",
    "\n",
    "os.makedirs(os.path.join(path, 'images'), exist_ok=True)\n",
    "os.makedirs(os.path.join(path, 'split'), exist_ok=True)\n",
    "\n",
    "clses = ['AMD', 'Control']\n",
    "ages = []\n",
    "paths = []\n",
    "labels = []\n",
    "for cls in clses:\n",
    "    files = os.listdir(path + cls)\n",
    "    for file in files:\n",
    "        if '.mat' in file:\n",
    "            mat = scipy.io.loadmat(os.path.join(path, cls, file))\n",
    "            img = mat['images']\n",
    "            age = mat['Age'].item()\n",
    "            ages.append(age)\n",
    "            paths.append(os.path.join(path, cls, file))\n",
    "            label = 0 if cls == 'AMD' else 1\n",
    "            labels.append(label)\n",
    "            \n",
    "            # write to npy\n",
    "            filename = file.split('.')[0] + '.npy'\n",
    "            np.save(os.path.join(path, 'images', filename), img)\n",
    "    \n"
   ]
  },
  {
   "cell_type": "code",
   "execution_count": null,
   "id": "75d82bf3",
   "metadata": {
    "scrolled": true
   },
   "outputs": [],
   "source": [
    "to_create = list(zip(paths, ages, labels))\n",
    "meta_all = pd.DataFrame(to_create, columns=['Path', 'Age', 'label'])"
   ]
  },
  {
   "cell_type": "code",
   "execution_count": null,
   "id": "d12badfe",
   "metadata": {},
   "outputs": [],
   "source": [
    "paths = meta_all['Path'].values.tolist()\n",
    "paths = [x.split('/')[-1].replace('mat', 'npy') for x in paths]\n",
    "meta_all['Path'] = paths"
   ]
  },
  {
   "cell_type": "code",
   "execution_count": null,
   "id": "c2445a0d",
   "metadata": {},
   "outputs": [],
   "source": [
    "meta_all.to_csv('/home/as26840@ens.ad.etsmtl.ca/data/medfair/OCT/split/meta_all.csv', index = False)"
   ]
  },
  {
   "cell_type": "code",
   "execution_count": null,
   "id": "1908675b",
   "metadata": {},
   "outputs": [],
   "source": [
    "meta_all['Age_multi'] = meta_all['Age'].values.astype('int')\n",
    "meta_all['Age_multi'] = np.where(meta_all['Age_multi'].between(0,19), 0, meta_all['Age_multi'])\n",
    "meta_all['Age_multi'] = np.where(meta_all['Age_multi'].between(20,39), 1, meta_all['Age_multi'])\n",
    "meta_all['Age_multi'] = np.where(meta_all['Age_multi'].between(40,59), 2, meta_all['Age_multi'])\n",
    "meta_all['Age_multi'] = np.where(meta_all['Age_multi'].between(60,79), 3, meta_all['Age_multi'])\n",
    "meta_all['Age_multi'] = np.where(meta_all['Age_multi']>=80, 4, meta_all['Age_multi'])\n",
    "\n",
    "meta_all['Age_binary'] = meta_all['Age'].values.astype('int')\n",
    "meta_all['Age_binary'] = np.where(meta_all['Age_binary'].between(0, 70), 0, meta_all['Age_binary'])\n",
    "meta_all['Age_binary'] = np.where(meta_all['Age_binary']>= 70, 1, meta_all['Age_binary'])\n",
    "meta_all"
   ]
  },
  {
   "cell_type": "code",
   "execution_count": null,
   "id": "e4f757b9",
   "metadata": {},
   "outputs": [],
   "source": [
    "def split_712(all_meta, patient_ids):\n",
    "    sub_train, sub_val_test = train_test_split(patient_ids, test_size=0.3, random_state=5)\n",
    "    sub_val, sub_test = train_test_split(sub_val_test, test_size=0.6, random_state=6)\n",
    "    train_meta = all_meta[all_meta.Path.isin(sub_train)]\n",
    "    val_meta = all_meta[all_meta.Path.isin(sub_val)]\n",
    "    test_meta = all_meta[all_meta.Path.isin(sub_test)]\n",
    "    return train_meta, val_meta, test_meta\n",
    "\n",
    "sub_train, sub_val, sub_test = split_712(meta_all, np.unique(meta_all['Path']))"
   ]
  },
  {
   "cell_type": "code",
   "execution_count": null,
   "id": "b91657ee",
   "metadata": {},
   "outputs": [],
   "source": [
    "sub_train.to_csv('/home/as26840@ens.ad.etsmtl.ca/data/medfair/OCT/split/new_train.csv')\n",
    "sub_val.to_csv('/home/as26840@ens.ad.etsmtl.ca/data/medfair/OCT/split/new_val.csv')\n",
    "sub_test.to_csv('/home/as26840@ens.ad.etsmtl.ca/data/medfair/OCT/split/new_test.csv')"
   ]
  }
 ],
 "metadata": {
  "kernelspec": {
   "display_name": "torch11",
   "language": "python",
   "name": "torch11"
  },
  "language_info": {
   "codemirror_mode": {
    "name": "ipython",
    "version": 3
   },
   "file_extension": ".py",
   "mimetype": "text/x-python",
   "name": "python",
   "nbconvert_exporter": "python",
   "pygments_lexer": "ipython3",
   "version": "3.8.12"
  }
 },
 "nbformat": 4,
 "nbformat_minor": 5
}
